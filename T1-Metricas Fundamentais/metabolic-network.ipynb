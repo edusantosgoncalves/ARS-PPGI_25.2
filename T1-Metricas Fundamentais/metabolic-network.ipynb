{
  "cells": [
    {
      "cell_type": "markdown",
      "id": "6b57e24d",
      "metadata": {},
      "source": [
        "# Metabolic Network"
      ]
    },
    {
      "cell_type": "markdown",
      "id": "77172f70",
      "metadata": {},
      "source": [
        "#### Importando dependências"
      ]
    },
    {
      "cell_type": "code",
      "execution_count": 2,
      "id": "490a1774",
      "metadata": {},
      "outputs": [],
      "source": [
        "import networkx as nx\n",
        "import pandas as pd\n",
        "import matplotlib.pyplot as plot"
      ]
    },
    {
      "cell_type": "markdown",
      "id": "49649cf0",
      "metadata": {},
      "source": [
        "#### Importando a base"
      ]
    },
    {
      "cell_type": "code",
      "execution_count": 3,
      "id": "6f375675",
      "metadata": {},
      "outputs": [],
      "source": [
        "# Importando o arquivo de arestas para o grafo não-direcionado\n",
        "edgelist_path = \"./networks-barabasi/metabolic.edgelist.txt\"\n",
        "\n",
        "# Usando pandas para ler o arquivo\n",
        "df_edges = pd.read_csv(edgelist_path, sep='\\t', header=None, names=['source', 'target'])\n",
        "\n",
        "# Instanciando grafo (não-direcionado)\n",
        "grafo = nx.DiGraph()\n",
        "\n",
        "# Adicionando as arestas ao grafo\n",
        "grafo.add_edges_from(df_edges.values)"
      ]
    },
    {
      "cell_type": "markdown",
      "id": "b65ab9ac",
      "metadata": {},
      "source": [
        "#### Obtendo métricas da rede"
      ]
    },
    {
      "cell_type": "code",
      "execution_count": 4,
      "id": "b50418f6",
      "metadata": {},
      "outputs": [
        {
          "name": "stdout",
          "output_type": "stream",
          "text": [
            "Número de nós: 1039\n",
            "Número de arestas: 5802\n",
            "Densidade: 0.0054\n"
          ]
        }
      ],
      "source": [
        "num_nos = grafo.number_of_nodes()\n",
        "num_arestas = grafo.number_of_edges()\n",
        "print(f\"Número de nós: {num_nos}\")\n",
        "print(f\"Número de arestas: {num_arestas}\")\n",
        "print(f\"Densidade: {nx.density(grafo):.4f}\")"
      ]
    },
    {
      "cell_type": "code",
      "execution_count": 5,
      "id": "20f4ad5c",
      "metadata": {},
      "outputs": [
        {
          "name": "stdout",
          "output_type": "stream",
          "text": [
            "Grau médio: 11.1684\n"
          ]
        }
      ],
      "source": [
        "# . Obtendo grau médio do grafo\n",
        "graus = dict(\n",
        "    nx.degree(grafo)\n",
        ")  # . Como o degree retorna array de tuplas (nó, grau), converto-os para dicionários key-value no formato nó: grau\n",
        "\n",
        "graus = list(\n",
        "    graus.values()\n",
        ")  # . Convertendo o dicionario para um array só com os graus dos nós\n",
        "\n",
        "grau_medio = 2 * num_arestas / num_nos\n",
        "print(f\"Grau médio: {grau_medio:.4f}\")\n"
      ]
    },
    {
      "cell_type": "code",
      "execution_count": 9,
      "id": "1404e341",
      "metadata": {},
      "outputs": [
        {
          "name": "stdout",
          "output_type": "stream",
          "text": [
            "Quantidade de componentes conexas: 1\n",
            "Quantidade de nós na maior componente conexa: 1039\n"
          ]
        }
      ],
      "source": [
        "num_comp = nx.number_connected_components(grafo) if not grafo.is_directed() else nx.number_weakly_connected_components(grafo) \n",
        "\n",
        "print(f\"Quantidade de componentes conexas: {num_comp}\")\n",
        "\n",
        "componentes_conexas = nx.weakly_connected_components(grafo)\n",
        "maior_componente_conexa = max(componentes_conexas, key=len)\n",
        "qtd_nos_maior_componente_conexa = len(maior_componente_conexa)\n",
        "print(\n",
        "    f\"Quantidade de nós na maior componente conexa: {qtd_nos_maior_componente_conexa}\"\n",
        ")"
      ]
    },
    {
      "cell_type": "code",
      "execution_count": 10,
      "id": "20e9c04a",
      "metadata": {},
      "outputs": [
        {
          "name": "stdout",
          "output_type": "stream",
          "text": [
            "Tamanho médio de componentes isoladas: não possui componente isolada!\n"
          ]
        }
      ],
      "source": [
        "tamanhos_componentes_isoladas = [\n",
        "    len(componente) for componente in list(nx.isolates(grafo))\n",
        "]\n",
        "\n",
        "# . Obtendo o tamanho médio das componentes isoladas\n",
        "tamanho_medio_componentes_isoladas = 0\n",
        "\n",
        "if len(tamanhos_componentes_isoladas) > 0:\n",
        "    tamanho_medio_componentes_isoladas = sum(tamanhos_componentes_isoladas) / len(\n",
        "        tamanhos_componentes_isoladas\n",
        "    )\n",
        "else:\n",
        "    tamanho_medio_componentes_isoladas = \"não possui componente isolada!\"\n",
        "    \n",
        "print(f\"Tamanho médio de componentes isoladas: {tamanho_medio_componentes_isoladas}\")\n"
      ]
    },
    {
      "cell_type": "code",
      "execution_count": 12,
      "id": "990bb19a",
      "metadata": {},
      "outputs": [
        {
          "name": "stdout",
          "output_type": "stream",
          "text": [
            "Coeficiente de clusterização do Grafo: 0.2806\n"
          ]
        },
        {
          "data": {
            "image/png": "[encoded data removed]",
            "text/plain": [
              "<Figure size 640x480 with 1 Axes>"
            ]
          },
          "metadata": {},
          "output_type": "display_data"
        }
      ],
      "source": [
        "\n",
        "# . Coeficiente de clusterização\n",
        "print(f\"Coeficiente de clusterização do Grafo: {nx.average_clustering(grafo):.4f}\")\n",
        "\n",
        "# . Plotando distribuição de graus\n",
        "distribuicao_graus = nx.degree_histogram(grafo)\n",
        "\n",
        "# . Criando lista de graus correspondentes aos índices na distribuição\n",
        "graus = list(range(len(distribuicao_graus)))\n",
        "\n",
        "# . Plotando a distribuição de graus em um gráfico de pontos\n",
        "plot.scatter(graus, distribuicao_graus, marker=\"o\")\n",
        "plot.xscale(\n",
        "    \"log\"\n",
        ")  # . Definindo que o grafico seja plotado em escala logarítmica no eixo x\n",
        "plot.yscale(\n",
        "    \"log\"\n",
        ")  # . Definindo que o grafico seja plotado em escala logarítmica no eixo y\n",
        "plot.xlabel(\"Grau\")\n",
        "plot.ylabel(\"Contagem\")\n",
        "plot.title(\"Distribuição de Graus em Escala Logarítmica\")\n",
        "plot.show()"
      ]
    }
  ],
  "metadata": {
    "kernelspec": {
      "display_name": ".venv (3.13.5)",
      "language": "python",
      "name": "python3"
    },
    "language_info": {
      "codemirror_mode": {
        "name": "ipython",
        "version": 3
      },
      "file_extension": ".py",
      "mimetype": "text/x-python",
      "name": "python",
      "nbconvert_exporter": "python",
      "pygments_lexer": "ipython3",
      "version": "3.13.5"
    }
  },
  "nbformat": 4,
  "nbformat_minor": 5
}
